{
 "cells": [
  {
   "cell_type": "code",
   "execution_count": 1,
   "metadata": {
    "ExecuteTime": {
     "end_time": "2020-05-06T01:53:11.088763Z",
     "start_time": "2020-05-06T01:53:10.315621Z"
    }
   },
   "outputs": [],
   "source": [
    "import time\n",
    "import numpy as np\n",
    "import pandas as pd\n",
    "import matplotlib as mpl\n",
    "import matplotlib.pyplot as plt\n",
    "# import seaborn as sns\n",
    "from scipy.stats import norm\n",
    "from scipy.stats import multivariate_normal as mvnorm\n",
    "import corner\n",
    "import copy\n",
    "import multiprocessing as mp\n",
    "from tqdm import tqdm\n",
    "from functools import partial\n",
    "\n",
    "from hmc import HMC\n",
    "from distributions import UnivariateNormal, IndependentMultivariateNormal, MultivariateNormal, HierarchicalBayesianLogisticRegression"
   ]
  },
  {
   "cell_type": "code",
   "execution_count": 2,
   "metadata": {
    "ExecuteTime": {
     "end_time": "2020-05-06T01:53:11.093548Z",
     "start_time": "2020-05-06T01:53:11.090946Z"
    }
   },
   "outputs": [],
   "source": [
    "# sns.set()"
   ]
  },
  {
   "cell_type": "code",
   "execution_count": null,
   "metadata": {},
   "outputs": [],
   "source": []
  },
  {
   "cell_type": "markdown",
   "metadata": {
    "heading_collapsed": true
   },
   "source": [
    "# Setup"
   ]
  },
  {
   "cell_type": "code",
   "execution_count": 3,
   "metadata": {
    "ExecuteTime": {
     "end_time": "2020-05-06T01:53:11.110297Z",
     "start_time": "2020-05-06T01:53:11.096438Z"
    },
    "hidden": true
   },
   "outputs": [],
   "source": [
    "# Get data for dts\n",
    "def run_dt(data,\n",
    "           dist, \n",
    "           M, \n",
    "           n_args, \n",
    "           steps,\n",
    "           N_chains,\n",
    "           init_x,\n",
    "           L=5, \n",
    "           dt=[10**c for c in np.arange(-6, -1, dtype=float)], \n",
    "           prop='leapfrog'):\n",
    "    results = {}\n",
    "    times = {}\n",
    "    for d in dt:\n",
    "        sampler = HMC(dist.logp, dist.dlogp, dt=d, L=L, M=M, n_args=n_args, prop=prop)\n",
    "        time0 = time.time()\n",
    "        xs = sampler.sample_pool(steps, data, N_chains, init_x=init_x, verbose=True)\n",
    "        times[d] = time.time() - time0\n",
    "        results[d] = xs\n",
    "    acc_dict = {}\n",
    "    for d, xs in results.items():\n",
    "        acc_chain = []\n",
    "        for c in range(N_chains):\n",
    "            acc_chain.append(len(np.unique(xs[c], axis=0)) / xs[c].shape[0])\n",
    "        acc_dict[d] = np.mean(acc_chain)\n",
    "    return results, times, acc_dict\n",
    "\n",
    "def run_L(data,\n",
    "           dist, \n",
    "           M, \n",
    "           n_args, \n",
    "           steps,\n",
    "           N_chains,\n",
    "           init_x,\n",
    "           Ls=np.arange(3, 8), \n",
    "           dt=1e-4, \n",
    "           prop='leapfrog'):\n",
    "    results = {}\n",
    "    times = {}\n",
    "    for l in Ls:\n",
    "        sampler = HMC(dist.logp, dist.dlogp, dt=dt, L=l, M=M, n_args=n_args, prop=prop)\n",
    "        time0 = time.time()\n",
    "        xs = sampler.sample_pool(steps, data, N_chains, init_x=init_x, verbose=True)\n",
    "        times[l] = time.time() - time0\n",
    "        results[l] = xs\n",
    "    acc_dict = {}\n",
    "    for l, xs in results.items():\n",
    "        acc_chain = []\n",
    "        for c in range(N_chains):\n",
    "            acc_chain.append(len(np.unique(xs[c], axis=0)) / xs[c].shape[0])\n",
    "        acc_dict[l] = np.mean(acc_chain)\n",
    "    return results, times, acc_dict"
   ]
  },
  {
   "cell_type": "code",
   "execution_count": 4,
   "metadata": {
    "ExecuteTime": {
     "end_time": "2020-05-06T01:53:11.123680Z",
     "start_time": "2020-05-06T01:53:11.113048Z"
    },
    "hidden": true
   },
   "outputs": [],
   "source": [
    "def effective_sample_size(x, truncation=True, threshold=0.05):\n",
    "    # A mapping from sample space to $R$\n",
    "    # we use mean here\n",
    "    M = len(x)\n",
    "    if len(x.shape) > 1:\n",
    "        f = x.mean(axis=-1)\n",
    "    else:\n",
    "        f = x\n",
    "    \n",
    "    # Compute mu, sigma\n",
    "    mu_f = f.mean()\n",
    "    var_f = f.var()\n",
    "        \n",
    "    ess = 0\n",
    "    ro = np.zeros(M-1)\n",
    "    temp = f - mu_f\n",
    "    for s in range(M-1):\n",
    "        ro[s] = temp[s+1:].dot(temp[:M-s-1]) / (var_f * (M-s-1))\n",
    "    if truncation:\n",
    "        M_cutoff = np.argmax(ro < threshold)\n",
    "        ess = M / (1 + 2 * (1 - np.arange(1, M_cutoff+1) / M).dot(ro[:M_cutoff]))\n",
    "    else:\n",
    "        ess = M / (1 + 2 * (1 - np.arange(1, M) / M).dot(ro))\n",
    "    return ess\n",
    "\n",
    "\n",
    "\"\"\"\n",
    "Special note: in original \"No U-Turn\" paper, ESS was computed\n",
    "in two ways: 1. map from $R^d$ to $R$ then compute the ESS;\n",
    "2. directly compute ESS on seperate dimensions\n",
    "\"\"\"\n",
    "def effective_sample_size_on_seperate_dimensions(x, truncation=True, threshold=0.05):\n",
    "    if len(x.shape) > 1:\n",
    "        res = []\n",
    "        for i in range(x.shape[-1]):\n",
    "            res.append(effective_sample_size(x[:, i]))\n",
    "        return res\n",
    "    else:\n",
    "        return effective_sample_size(x, truncation, threshold)\n",
    "\n",
    "\n",
    "def average_ess(results):\n",
    "    ess = {}\n",
    "    for p, xs in results.items():\n",
    "        temp = []\n",
    "        for c in range(N_chains):\n",
    "            temp.append(effective_sample_size(xs[c]))\n",
    "        ess[p] = np.mean(temp)\n",
    "    return ess"
   ]
  },
  {
   "cell_type": "code",
   "execution_count": 5,
   "metadata": {
    "ExecuteTime": {
     "end_time": "2020-05-06T01:53:11.128855Z",
     "start_time": "2020-05-06T01:53:11.125694Z"
    },
    "hidden": true
   },
   "outputs": [],
   "source": [
    "N_chains = mp.cpu_count() - 1"
   ]
  },
  {
   "cell_type": "code",
   "execution_count": 6,
   "metadata": {
    "ExecuteTime": {
     "end_time": "2020-05-06T01:53:11.135515Z",
     "start_time": "2020-05-06T01:53:11.131416Z"
    },
    "hidden": true
   },
   "outputs": [],
   "source": [
    "# Parameters\n",
    "dt = [10**c for c in np.arange(-6, -1, dtype=float)]\n",
    "L = np.arange(3, 8)"
   ]
  },
  {
   "cell_type": "markdown",
   "metadata": {},
   "source": [
    "# Sampling Example $\\mathcal{N}(\\mu,\\sigma)$"
   ]
  },
  {
   "cell_type": "code",
   "execution_count": 7,
   "metadata": {
    "ExecuteTime": {
     "end_time": "2020-05-06T01:53:11.145633Z",
     "start_time": "2020-05-06T01:53:11.137412Z"
    }
   },
   "outputs": [
    {
     "name": "stdout",
     "output_type": "stream",
     "text": [
      "mu_hat: 0.00945059906244133, sig_hat: 1.0043583906171232\n"
     ]
    }
   ],
   "source": [
    "# Generate observed data\n",
    "truth = (0,1)\n",
    "\n",
    "N = 10000\n",
    "data = norm.rvs(loc=truth[0], scale=truth[1], size=N)\n",
    "print(f'mu_hat: {np.mean(data)}, sig_hat: {np.std(data)}')"
   ]
  },
  {
   "cell_type": "code",
   "execution_count": 8,
   "metadata": {
    "ExecuteTime": {
     "end_time": "2020-05-06T01:53:11.158870Z",
     "start_time": "2020-05-06T01:53:11.151397Z"
    }
   },
   "outputs": [],
   "source": [
    "# Initialize Distribution\n",
    "dist = UnivariateNormal()"
   ]
  },
  {
   "cell_type": "code",
   "execution_count": 9,
   "metadata": {
    "ExecuteTime": {
     "end_time": "2020-05-06T01:53:25.327974Z",
     "start_time": "2020-05-06T01:53:11.175382Z"
    },
    "scrolled": true
   },
   "outputs": [
    {
     "name": "stderr",
     "output_type": "stream",
     "text": [
      "100%|██████████| 999/999 [00:02<00:00, 447.68it/s]\n",
      "100%|██████████| 999/999 [00:02<00:00, 442.47it/s]\n",
      "100%|██████████| 999/999 [00:02<00:00, 442.07it/s]\n",
      "100%|██████████| 999/999 [00:02<00:00, 438.80it/s]\n",
      "100%|██████████| 999/999 [00:02<00:00, 432.61it/s]\n",
      "100%|██████████| 999/999 [00:02<00:00, 430.99it/s]\n",
      "100%|██████████| 999/999 [00:02<00:00, 430.77it/s]\n",
      "100%|██████████| 999/999 [00:02<00:00, 403.82it/s]\n",
      "100%|██████████| 999/999 [00:02<00:00, 394.03it/s]\n",
      "100%|██████████| 999/999 [00:02<00:00, 392.35it/s]\n",
      "100%|██████████| 999/999 [00:02<00:00, 390.52it/s]\n",
      "100%|██████████| 999/999 [00:02<00:00, 388.44it/s]\n",
      "100%|██████████| 999/999 [00:02<00:00, 386.19it/s]\n",
      "100%|██████████| 999/999 [00:02<00:00, 385.50it/s]\n",
      "100%|██████████| 999/999 [00:02<00:00, 355.81it/s]\n",
      "100%|██████████| 999/999 [00:02<00:00, 351.81it/s]\n",
      "100%|██████████| 999/999 [00:02<00:00, 349.65it/s]\n",
      "100%|██████████| 999/999 [00:02<00:00, 348.57it/s]\n",
      "100%|██████████| 999/999 [00:02<00:00, 344.65it/s]\n",
      "100%|██████████| 999/999 [00:02<00:00, 343.35it/s]\n",
      "100%|██████████| 999/999 [00:02<00:00, 339.84it/s]\n",
      "  0%|          | 0/999 [00:00<?, ?it/s]/Users/maho/git/symHMC/hmc.py:157: RuntimeWarning: overflow encountered in exp\n",
      "  + self.K(v) - self.K(vnew))\n",
      "/Users/maho/git/symHMC/hmc.py:157: RuntimeWarning: overflow encountered in exp\n",
      "  + self.K(v) - self.K(vnew))\n",
      "/Users/maho/git/symHMC/hmc.py:157: RuntimeWarning: overflow encountered in exp\n",
      "  + self.K(v) - self.K(vnew))\n",
      "/Users/maho/git/symHMC/hmc.py:157: RuntimeWarning: overflow encountered in exp\n",
      "  + self.K(v) - self.K(vnew))\n",
      "/Users/maho/git/symHMC/hmc.py:157: RuntimeWarning: overflow encountered in exp\n",
      "  + self.K(v) - self.K(vnew))\n",
      "/Users/maho/git/symHMC/hmc.py:157: RuntimeWarning: overflow encountered in exp\n",
      "  + self.K(v) - self.K(vnew))\n",
      "/Users/maho/git/symHMC/hmc.py:157: RuntimeWarning: overflow encountered in exp\n",
      "  + self.K(v) - self.K(vnew))\n",
      "100%|██████████| 999/999 [00:02<00:00, 398.42it/s]\n",
      "100%|██████████| 999/999 [00:02<00:00, 395.97it/s]\n",
      "100%|██████████| 999/999 [00:02<00:00, 395.31it/s]\n",
      "100%|██████████| 999/999 [00:02<00:00, 391.83it/s]\n",
      "100%|██████████| 999/999 [00:02<00:00, 390.91it/s]\n",
      "100%|██████████| 999/999 [00:02<00:00, 390.12it/s]\n",
      "100%|██████████| 999/999 [00:02<00:00, 388.14it/s]\n",
      "100%|██████████| 999/999 [00:03<00:00, 319.97it/s]\n",
      "100%|██████████| 999/999 [00:03<00:00, 320.18it/s]\n",
      "100%|██████████| 999/999 [00:03<00:00, 318.37it/s]\n",
      "100%|██████████| 999/999 [00:03<00:00, 315.43it/s]\n",
      "100%|██████████| 999/999 [00:03<00:00, 313.89it/s]\n",
      "100%|██████████| 999/999 [00:03<00:00, 313.67it/s]\n",
      "100%|██████████| 999/999 [00:03<00:00, 303.27it/s]\n"
     ]
    }
   ],
   "source": [
    "results_uni_dt_lp, times_uni_dt_lp, acc_uni_dt_lp = run_dt(\n",
    "    data,\n",
    "    dist, \n",
    "    M=0.1*np.identity(2), \n",
    "    n_args=2, \n",
    "    steps=10**3,\n",
    "    N_chains=N_chains,\n",
    "    init_x=[0.1,0.5],\n",
    "    L=5, \n",
    "    dt=[10**c for c in np.arange(-6, -1, dtype=float)], \n",
    "    prop='leapfrog'\n",
    ")"
   ]
  },
  {
   "cell_type": "code",
   "execution_count": 10,
   "metadata": {
    "ExecuteTime": {
     "end_time": "2020-05-06T01:53:44.230391Z",
     "start_time": "2020-05-06T01:53:25.330779Z"
    },
    "scrolled": true
   },
   "outputs": [
    {
     "name": "stderr",
     "output_type": "stream",
     "text": [
      "100%|██████████| 999/999 [00:02<00:00, 382.77it/s]\n",
      "100%|██████████| 999/999 [00:02<00:00, 381.11it/s]\n",
      "100%|██████████| 999/999 [00:02<00:00, 377.59it/s]\n",
      "100%|██████████| 999/999 [00:02<00:00, 375.63it/s]\n",
      "100%|██████████| 999/999 [00:02<00:00, 375.32it/s]\n",
      "100%|██████████| 999/999 [00:02<00:00, 369.81it/s]\n",
      "100%|██████████| 999/999 [00:02<00:00, 366.40it/s]\n",
      "100%|██████████| 999/999 [00:02<00:00, 425.58it/s]\n",
      "100%|██████████| 999/999 [00:02<00:00, 419.19it/s]\n",
      "100%|██████████| 999/999 [00:02<00:00, 417.42it/s]\n",
      "100%|██████████| 999/999 [00:02<00:00, 417.28it/s]\n",
      "\n",
      "100%|██████████| 999/999 [00:02<00:00, 414.05it/s]\n",
      "100%|██████████| 999/999 [00:02<00:00, 408.72it/s]\n",
      "100%|██████████| 999/999 [00:02<00:00, 364.02it/s]\n",
      "100%|██████████| 999/999 [00:02<00:00, 356.80it/s]\n",
      "\n",
      "100%|██████████| 999/999 [00:02<00:00, 352.52it/s]\n",
      "100%|██████████| 999/999 [00:02<00:00, 347.66it/s]\n",
      "100%|██████████| 999/999 [00:02<00:00, 346.29it/s]\n",
      "100%|██████████| 999/999 [00:02<00:00, 345.19it/s]\n",
      "100%|██████████| 999/999 [00:04<00:00, 214.41it/s]\n",
      " 99%|█████████▉| 991/999 [00:04<00:00, 189.66it/s]\n",
      "\n",
      "100%|██████████| 999/999 [00:04<00:00, 212.37it/s]\n",
      "100%|██████████| 999/999 [00:04<00:00, 211.71it/s]\n",
      "\n",
      "100%|██████████| 999/999 [00:04<00:00, 211.12it/s]\n",
      "100%|██████████| 999/999 [00:05<00:00, 183.65it/s]\n",
      "100%|██████████| 999/999 [00:05<00:00, 180.59it/s]\n",
      "100%|██████████| 999/999 [00:05<00:00, 180.37it/s]\n",
      "\n",
      "100%|██████████| 999/999 [00:05<00:00, 179.51it/s]\n",
      "100%|██████████| 999/999 [00:05<00:00, 177.43it/s]\n",
      "100%|██████████| 999/999 [00:05<00:00, 177.16it/s]\n"
     ]
    }
   ],
   "source": [
    "results_uni_L_lp, times_uni_L_lp, acc_uni_L_lp = run_L(\n",
    "    data,\n",
    "    dist, \n",
    "    M=0.1*np.identity(2), \n",
    "    n_args=2, \n",
    "    steps=10**3,\n",
    "    N_chains=N_chains,\n",
    "    init_x=[0.1,0.5], \n",
    "    prop='leapfrog'\n",
    ")"
   ]
  },
  {
   "cell_type": "code",
   "execution_count": 11,
   "metadata": {
    "ExecuteTime": {
     "end_time": "2020-05-06T01:54:10.814134Z",
     "start_time": "2020-05-06T01:53:44.232569Z"
    },
    "scrolled": true
   },
   "outputs": [
    {
     "name": "stderr",
     "output_type": "stream",
     "text": [
      "100%|██████████| 999/999 [00:05<00:00, 190.23it/s]\n",
      "100%|██████████| 999/999 [00:05<00:00, 187.89it/s]\n",
      "100%|██████████| 999/999 [00:05<00:00, 187.44it/s]\n",
      "100%|██████████| 999/999 [00:05<00:00, 187.04it/s]\n",
      "\n",
      " 97%|█████████▋| 973/999 [00:05<00:00, 231.62it/s]\n",
      "100%|██████████| 999/999 [00:05<00:00, 183.70it/s]\n",
      "100%|██████████| 999/999 [00:04<00:00, 233.91it/s]\n",
      "100%|██████████| 999/999 [00:04<00:00, 230.41it/s]\n",
      "100%|██████████| 999/999 [00:04<00:00, 227.85it/s]\n",
      "100%|██████████| 999/999 [00:04<00:00, 227.60it/s]\n",
      "100%|██████████| 999/999 [00:04<00:00, 226.77it/s]\n",
      "100%|██████████| 999/999 [00:04<00:00, 227.12it/s]\n",
      "100%|██████████| 999/999 [00:04<00:00, 225.84it/s]\n",
      "100%|██████████| 999/999 [00:04<00:00, 239.76it/s]\n",
      "100%|██████████| 999/999 [00:04<00:00, 238.19it/s]\n",
      "100%|██████████| 999/999 [00:04<00:00, 236.49it/s]\n",
      "100%|██████████| 999/999 [00:04<00:00, 235.81it/s]\n",
      "100%|██████████| 999/999 [00:04<00:00, 234.87it/s]\n",
      "100%|██████████| 999/999 [00:04<00:00, 233.83it/s]\n",
      "100%|██████████| 999/999 [00:04<00:00, 232.82it/s]\n",
      "100%|██████████| 999/999 [00:04<00:00, 239.00it/s]\n",
      "100%|█████████▉| 996/999 [00:04<00:00, 168.93it/s]\n",
      "100%|██████████| 999/999 [00:04<00:00, 238.19it/s]\n",
      "100%|██████████| 999/999 [00:04<00:00, 237.83it/s]\n",
      "100%|██████████| 999/999 [00:04<00:00, 234.91it/s]\n",
      "100%|██████████| 999/999 [00:04<00:00, 234.31it/s]\n",
      "100%|██████████| 999/999 [00:04<00:00, 233.40it/s]\n",
      "100%|██████████| 999/999 [00:07<00:00, 135.85it/s]\n",
      "100%|██████████| 999/999 [00:07<00:00, 135.57it/s]\n",
      "100%|██████████| 999/999 [00:07<00:00, 135.30it/s]\n",
      "100%|██████████| 999/999 [00:07<00:00, 134.59it/s]\n",
      "100%|██████████| 999/999 [00:07<00:00, 134.41it/s]\n",
      "\n",
      "100%|██████████| 999/999 [00:07<00:00, 132.65it/s]\n"
     ]
    }
   ],
   "source": [
    "results_uni_dt_ys, times_uni_dt_ys, acc_uni_dt_ys = run_dt(\n",
    "    data,\n",
    "    dist, \n",
    "    M=0.1*np.identity(2), \n",
    "    n_args=2, \n",
    "    steps=10**3,\n",
    "    N_chains=N_chains,\n",
    "    init_x=[0.1,0.5],\n",
    "    L=5, \n",
    "    dt=[10**c for c in np.arange(-6, -1, dtype=float)], \n",
    "    prop='yoshida'\n",
    ")"
   ]
  },
  {
   "cell_type": "code",
   "execution_count": 12,
   "metadata": {
    "ExecuteTime": {
     "end_time": "2020-05-06T01:54:37.393842Z",
     "start_time": "2020-05-06T01:54:10.816520Z"
    },
    "scrolled": true
   },
   "outputs": [
    {
     "name": "stderr",
     "output_type": "stream",
     "text": [
      "100%|██████████| 999/999 [00:05<00:00, 186.96it/s]\n",
      "100%|██████████| 999/999 [00:05<00:00, 184.33it/s]\n",
      "100%|██████████| 999/999 [00:05<00:00, 183.90it/s]\n",
      "100%|██████████| 999/999 [00:05<00:00, 183.77it/s]\n",
      "100%|██████████| 999/999 [00:05<00:00, 183.49it/s]\n",
      "100%|██████████| 999/999 [00:05<00:00, 182.48it/s]\n",
      "100%|██████████| 999/999 [00:05<00:00, 180.45it/s]\n",
      "100%|██████████| 999/999 [00:05<00:00, 183.16it/s]\n",
      "100%|██████████| 999/999 [00:05<00:00, 182.28it/s]\n",
      "\n",
      "100%|██████████| 999/999 [00:05<00:00, 181.78it/s]\n",
      "100%|██████████| 999/999 [00:05<00:00, 181.71it/s]\n",
      "100%|██████████| 999/999 [00:05<00:00, 181.48it/s]\n",
      "100%|██████████| 999/999 [00:05<00:00, 181.25it/s]\n",
      "100%|██████████| 999/999 [00:04<00:00, 202.14it/s]\n",
      "100%|██████████| 999/999 [00:04<00:00, 201.16it/s]\n",
      "100%|██████████| 999/999 [00:04<00:00, 200.52it/s]\n",
      "100%|██████████| 999/999 [00:04<00:00, 200.02it/s]\n",
      "100%|██████████| 999/999 [00:05<00:00, 199.65it/s]\n",
      "100%|██████████| 999/999 [00:05<00:00, 199.42it/s]\n",
      "100%|██████████| 999/999 [00:05<00:00, 198.74it/s]\n",
      "100%|██████████| 999/999 [00:04<00:00, 234.95it/s]\n",
      "100%|██████████| 999/999 [00:04<00:00, 232.98it/s]\n",
      "\n",
      "100%|██████████| 999/999 [00:04<00:00, 232.19it/s]\n",
      "100%|██████████| 999/999 [00:04<00:00, 231.52it/s]\n",
      "100%|██████████| 999/999 [00:04<00:00, 231.09it/s]\n",
      "100%|██████████| 999/999 [00:04<00:00, 229.84it/s]\n",
      "100%|██████████| 999/999 [00:05<00:00, 178.24it/s]\n",
      "100%|██████████| 999/999 [00:05<00:00, 177.59it/s]\n",
      "100%|█████████▉| 998/999 [00:05<00:00, 147.76it/s]\n",
      "100%|██████████| 999/999 [00:05<00:00, 176.92it/s]\n",
      "100%|██████████| 999/999 [00:05<00:00, 176.44it/s]\n",
      "\n",
      "100%|██████████| 999/999 [00:05<00:00, 176.34it/s]\n"
     ]
    }
   ],
   "source": [
    "results_uni_L_ys, times_uni_L_ys, acc_uni_L_ys = run_L(\n",
    "    data,\n",
    "    dist, \n",
    "    M=0.1*np.identity(2), \n",
    "    n_args=2, \n",
    "    steps=10**3,\n",
    "    N_chains=N_chains,\n",
    "    init_x=[0.1,0.5], \n",
    "    prop='yoshida'\n",
    ")"
   ]
  },
  {
   "cell_type": "code",
   "execution_count": 13,
   "metadata": {
    "ExecuteTime": {
     "end_time": "2020-05-06T01:54:37.727436Z",
     "start_time": "2020-05-06T01:54:37.397695Z"
    }
   },
   "outputs": [
    {
     "data": {
      "image/png": "[encoded data removed]",
      "text/plain": [
       "<Figure size 720x360 with 2 Axes>"
      ]
     },
     "metadata": {
      "needs_background": "light"
     },
     "output_type": "display_data"
    }
   ],
   "source": [
    "fig, (ax1, ax2) = plt.subplots(1, 2, figsize=(10, 5))\n",
    "ax1.set_title('Time vs. Step Size on Different Samplers')\n",
    "ax1.set_xlabel('Step size(logspace)')\n",
    "ax1.set_ylabel('Compute time(s)')\n",
    "ax1.plot(np.log10(list(times_uni_dt_lp.keys())), list(times_uni_dt_lp.values()), '-*', label='Leapfrog')\n",
    "ax1.plot(np.log10(list(times_uni_dt_ys.keys())), list(times_uni_dt_ys.values()), '-*', label='Yoshida')\n",
    "ax1.legend()\n",
    "ax1.set_xticks(np.log10(list(times_uni_dt_lp.keys())))\n",
    "\n",
    "ax2.set_title('Time vs. Number of Steps on Different Samplers')\n",
    "ax2.set_xlabel('Number of Steps')\n",
    "ax2.set_ylabel('Compute time(s)')\n",
    "ax2.plot(list(times_uni_L_lp.keys()), list(times_uni_L_lp.values()), '-*', label='Leapfrog')\n",
    "ax2.plot(list(times_uni_L_ys.keys()), list(times_uni_L_ys.values()), '-*', label='Yoshida')\n",
    "ax2.legend()\n",
    "ax2.set_xticks(list(times_uni_L_ys.keys()))\n",
    "mpl.rcParams.update({'font.size': 15})"
   ]
  },
  {
   "cell_type": "code",
   "execution_count": 14,
   "metadata": {
    "ExecuteTime": {
     "end_time": "2020-05-06T01:54:37.813962Z",
     "start_time": "2020-05-06T01:54:37.729685Z"
    }
   },
   "outputs": [
    {
     "data": {
      "text/plain": [
       "{1e-06: 2.916499224805816,\n",
       " 1e-05: 3.093975856100065,\n",
       " 0.0001: 26.45761640535907,\n",
       " 0.001: 780.6726589890924,\n",
       " 0.01: 1000.0}"
      ]
     },
     "execution_count": 14,
     "metadata": {},
     "output_type": "execute_result"
    }
   ],
   "source": [
    "average_ess(results_uni_dt_lp)"
   ]
  },
  {
   "cell_type": "code",
   "execution_count": 15,
   "metadata": {
    "ExecuteTime": {
     "end_time": "2020-05-06T01:54:37.899841Z",
     "start_time": "2020-05-06T01:54:37.816387Z"
    }
   },
   "outputs": [
    {
     "data": {
      "text/plain": [
       "{1e-06: 2.8915137671602626,\n",
       " 1e-05: 3.1052133269554525,\n",
       " 0.0001: 27.248265819096563,\n",
       " 0.001: 1000.0,\n",
       " 0.01: 1000.0}"
      ]
     },
     "execution_count": 15,
     "metadata": {},
     "output_type": "execute_result"
    }
   ],
   "source": [
    "average_ess(results_uni_dt_ys)"
   ]
  },
  {
   "cell_type": "code",
   "execution_count": 16,
   "metadata": {
    "ExecuteTime": {
     "end_time": "2020-05-06T01:54:37.987862Z",
     "start_time": "2020-05-06T01:54:37.902358Z"
    }
   },
   "outputs": [
    {
     "data": {
      "text/plain": [
       "{3: 11.336120871817768,\n",
       " 4: 19.824699984266903,\n",
       " 5: 22.410692523519696,\n",
       " 6: 42.81734958105691,\n",
       " 7: 44.53356172109017}"
      ]
     },
     "execution_count": 16,
     "metadata": {},
     "output_type": "execute_result"
    }
   ],
   "source": [
    "average_ess(results_uni_L_lp) "
   ]
  },
  {
   "cell_type": "code",
   "execution_count": 17,
   "metadata": {
    "ExecuteTime": {
     "end_time": "2020-05-06T01:54:38.073108Z",
     "start_time": "2020-05-06T01:54:37.989919Z"
    }
   },
   "outputs": [
    {
     "data": {
      "text/plain": [
       "{3: 10.175692096263171,\n",
       " 4: 19.511261246638124,\n",
       " 5: 25.35152353865016,\n",
       " 6: 36.11380188632924,\n",
       " 7: 42.064098570674936}"
      ]
     },
     "execution_count": 17,
     "metadata": {},
     "output_type": "execute_result"
    }
   ],
   "source": [
    "average_ess(results_uni_L_ys) "
   ]
  },
  {
   "cell_type": "code",
   "execution_count": 18,
   "metadata": {
    "ExecuteTime": {
     "end_time": "2020-05-06T01:54:38.427061Z",
     "start_time": "2020-05-06T01:54:38.075088Z"
    }
   },
   "outputs": [
    {
     "data": {
      "image/png": "[encoded data removed]",
      "text/plain": [
       "<Figure size 720x360 with 2 Axes>"
      ]
     },
     "metadata": {
      "needs_background": "light"
     },
     "output_type": "display_data"
    }
   ],
   "source": [
    "fig, (ax1, ax2) = plt.subplots(1, 2, figsize=(10, 5))\n",
    "ax1.set_title('Accpetance Rate vs. Step Size on Different Samplers')\n",
    "ax1.set_xlabel('Step size(logspace)')\n",
    "ax1.set_ylabel('Accpetance rate')\n",
    "ax1.plot(np.log10(list(acc_uni_dt_lp.keys())), list(acc_uni_dt_lp.values()), '-*', label='Leapfrog')\n",
    "ax1.plot(np.log10(list(acc_uni_dt_ys.keys())), list(acc_uni_dt_ys.values()), '-*', label='Yoshida')\n",
    "ax1.legend()\n",
    "ax1.set_xticks(np.log10(list(times_uni_dt_lp.keys())))\n",
    "\n",
    "ax2.set_title('Accpetance Rate vs. Number of Steps on Different Samplers')\n",
    "ax2.set_xlabel('Number of steps')\n",
    "ax2.set_ylabel('Accpetance rate')\n",
    "ax2.plot(list(acc_uni_L_lp.keys()), list(acc_uni_L_lp.values()), '-*', label='Leapfrog')\n",
    "ax2.plot(list(acc_uni_L_ys.keys()), list(acc_uni_L_ys.values()), '-*', label='Yoshida')\n",
    "ax2.legend()\n",
    "ax2.set_xticks(list(times_uni_L_ys.keys()))\n",
    "mpl.rc('font', size=19)"
   ]
  },
  {
   "cell_type": "markdown",
   "metadata": {},
   "source": [
    "# Diagonal Multivariate Gaussian"
   ]
  },
  {
   "cell_type": "code",
   "execution_count": 19,
   "metadata": {
    "ExecuteTime": {
     "end_time": "2020-05-06T01:54:39.539446Z",
     "start_time": "2020-05-06T01:54:38.429645Z"
    }
   },
   "outputs": [
    {
     "name": "stdout",
     "output_type": "stream",
     "text": [
      "mu_*: [2.11719859 2.28631523 6.90559354 4.55882134 9.07059544], sig_*: [[0.92020703 0.         0.         0.         0.        ]\n",
      " [0.         0.61455942 0.         0.         0.        ]\n",
      " [0.         0.         4.74807833 0.         0.        ]\n",
      " [0.         0.         0.         0.14956059 0.        ]\n",
      " [0.         0.         0.         0.         2.31637544]]\n",
      "mu_hat: 4.985888439677919, sig_hat: [[13.19726863 13.29050058  3.29278254 ... 11.90586179 14.67173391\n",
      "  14.22255142]\n",
      " [13.29050058 14.51988768  2.10266253 ... 10.77194768 15.15224257\n",
      "  14.43203331]\n",
      " [ 3.29278254  2.10266253  5.8381086  ...  7.84130833  3.72281225\n",
      "   4.30814391]\n",
      " ...\n",
      " [11.90586179 10.77194768  7.84130833 ... 15.50254904 13.1812816\n",
      "  13.53723489]\n",
      " [14.67173391 15.15224257  3.72281225 ... 13.1812816  16.79796469\n",
      "  16.0112982 ]\n",
      " [14.22255142 14.43203331  4.30814391 ... 13.53723489 16.0112982\n",
      "  15.5538802 ]]\n"
     ]
    }
   ],
   "source": [
    "# Generate observed data\n",
    "ndims = 5 # Number of dimensions for multivariate Gaussian\n",
    "\n",
    "mu_tru = 10*np.random.rand(ndims)\n",
    "sig_tru = 5*np.random.rand(ndims)\n",
    "N_chains = 3\n",
    "N = 10000\n",
    "data = mvnorm.rvs(mean=mu_tru, cov=np.diag(sig_tru), size=N)\n",
    "\n",
    "print(f'mu_*: {mu_tru}, sig_*: {np.diag(sig_tru)}')\n",
    "print(f'mu_hat: {np.mean(data)}, sig_hat: {np.cov(data)}')"
   ]
  },
  {
   "cell_type": "code",
   "execution_count": 20,
   "metadata": {
    "ExecuteTime": {
     "end_time": "2020-05-06T01:54:39.544259Z",
     "start_time": "2020-05-06T01:54:39.541538Z"
    }
   },
   "outputs": [],
   "source": [
    "# Initialize Distribution\n",
    "dist = IndependentMultivariateNormal(n_dims=ndims)"
   ]
  },
  {
   "cell_type": "code",
   "execution_count": 22,
   "metadata": {
    "ExecuteTime": {
     "end_time": "2020-05-06T02:17:34.363671Z",
     "start_time": "2020-05-06T01:57:43.949855Z"
    },
    "scrolled": true
   },
   "outputs": [
    {
     "name": "stderr",
     "output_type": "stream",
     "text": [
      "100%|██████████| 999/999 [00:09<00:00, 109.49it/s]\n",
      "100%|██████████| 999/999 [00:09<00:00, 109.12it/s]\n",
      "100%|██████████| 999/999 [00:09<00:00, 108.88it/s]\n",
      "100%|██████████| 999/999 [00:08<00:00, 116.92it/s]\n",
      "100%|██████████| 999/999 [00:08<00:00, 121.03it/s]\n",
      "100%|██████████| 999/999 [00:07<00:00, 134.94it/s]\n"
     ]
    },
    {
     "ename": "KeyboardInterrupt",
     "evalue": "",
     "output_type": "error",
     "traceback": [
      "\u001b[0;31m---------------------------------------------------------------------------\u001b[0m",
      "\u001b[0;31mKeyboardInterrupt\u001b[0m                         Traceback (most recent call last)",
      "\u001b[0;32m<ipython-input-22-a4013f322817>\u001b[0m in \u001b[0;36m<module>\u001b[0;34m\u001b[0m\n\u001b[1;32m      9\u001b[0m    \u001b[0mL\u001b[0m\u001b[0;34m=\u001b[0m\u001b[0;36m5\u001b[0m\u001b[0;34m,\u001b[0m\u001b[0;34m\u001b[0m\u001b[0;34m\u001b[0m\u001b[0m\n\u001b[1;32m     10\u001b[0m    \u001b[0mdt\u001b[0m\u001b[0;34m=\u001b[0m\u001b[0;34m[\u001b[0m\u001b[0;36m10\u001b[0m\u001b[0;34m**\u001b[0m\u001b[0mc\u001b[0m \u001b[0;32mfor\u001b[0m \u001b[0mc\u001b[0m \u001b[0;32min\u001b[0m \u001b[0mnp\u001b[0m\u001b[0;34m.\u001b[0m\u001b[0marange\u001b[0m\u001b[0;34m(\u001b[0m\u001b[0;34m-\u001b[0m\u001b[0;36m6\u001b[0m\u001b[0;34m,\u001b[0m \u001b[0;34m-\u001b[0m\u001b[0;36m1\u001b[0m\u001b[0;34m,\u001b[0m \u001b[0mdtype\u001b[0m\u001b[0;34m=\u001b[0m\u001b[0mfloat\u001b[0m\u001b[0;34m)\u001b[0m\u001b[0;34m]\u001b[0m\u001b[0;34m,\u001b[0m\u001b[0;34m\u001b[0m\u001b[0;34m\u001b[0m\u001b[0m\n\u001b[0;32m---> 11\u001b[0;31m    \u001b[0mprop\u001b[0m\u001b[0;34m=\u001b[0m\u001b[0;34m'leapfrog'\u001b[0m\u001b[0;34m\u001b[0m\u001b[0;34m\u001b[0m\u001b[0m\n\u001b[0m\u001b[1;32m     12\u001b[0m )\n",
      "\u001b[0;32m<ipython-input-3-112649fe4035>\u001b[0m in \u001b[0;36mrun_dt\u001b[0;34m(data, dist, M, n_args, steps, N_chains, init_x, L, dt, prop)\u001b[0m\n\u001b[1;32m     15\u001b[0m         \u001b[0msampler\u001b[0m \u001b[0;34m=\u001b[0m \u001b[0mHMC\u001b[0m\u001b[0;34m(\u001b[0m\u001b[0mdist\u001b[0m\u001b[0;34m.\u001b[0m\u001b[0mlogp\u001b[0m\u001b[0;34m,\u001b[0m \u001b[0mdist\u001b[0m\u001b[0;34m.\u001b[0m\u001b[0mdlogp\u001b[0m\u001b[0;34m,\u001b[0m \u001b[0mdt\u001b[0m\u001b[0;34m=\u001b[0m\u001b[0md\u001b[0m\u001b[0;34m,\u001b[0m \u001b[0mL\u001b[0m\u001b[0;34m=\u001b[0m\u001b[0mL\u001b[0m\u001b[0;34m,\u001b[0m \u001b[0mM\u001b[0m\u001b[0;34m=\u001b[0m\u001b[0mM\u001b[0m\u001b[0;34m,\u001b[0m \u001b[0mn_args\u001b[0m\u001b[0;34m=\u001b[0m\u001b[0mn_args\u001b[0m\u001b[0;34m,\u001b[0m \u001b[0mprop\u001b[0m\u001b[0;34m=\u001b[0m\u001b[0mprop\u001b[0m\u001b[0;34m)\u001b[0m\u001b[0;34m\u001b[0m\u001b[0;34m\u001b[0m\u001b[0m\n\u001b[1;32m     16\u001b[0m         \u001b[0mtime0\u001b[0m \u001b[0;34m=\u001b[0m \u001b[0mtime\u001b[0m\u001b[0;34m.\u001b[0m\u001b[0mtime\u001b[0m\u001b[0;34m(\u001b[0m\u001b[0;34m)\u001b[0m\u001b[0;34m\u001b[0m\u001b[0;34m\u001b[0m\u001b[0m\n\u001b[0;32m---> 17\u001b[0;31m         \u001b[0mxs\u001b[0m \u001b[0;34m=\u001b[0m \u001b[0msampler\u001b[0m\u001b[0;34m.\u001b[0m\u001b[0msample_pool\u001b[0m\u001b[0;34m(\u001b[0m\u001b[0msteps\u001b[0m\u001b[0;34m,\u001b[0m \u001b[0mdata\u001b[0m\u001b[0;34m,\u001b[0m \u001b[0mN_chains\u001b[0m\u001b[0;34m,\u001b[0m \u001b[0minit_x\u001b[0m\u001b[0;34m=\u001b[0m\u001b[0minit_x\u001b[0m\u001b[0;34m,\u001b[0m \u001b[0mverbose\u001b[0m\u001b[0;34m=\u001b[0m\u001b[0;32mTrue\u001b[0m\u001b[0;34m)\u001b[0m\u001b[0;34m\u001b[0m\u001b[0;34m\u001b[0m\u001b[0m\n\u001b[0m\u001b[1;32m     18\u001b[0m         \u001b[0mtimes\u001b[0m\u001b[0;34m[\u001b[0m\u001b[0md\u001b[0m\u001b[0;34m]\u001b[0m \u001b[0;34m=\u001b[0m \u001b[0mtime\u001b[0m\u001b[0;34m.\u001b[0m\u001b[0mtime\u001b[0m\u001b[0;34m(\u001b[0m\u001b[0;34m)\u001b[0m \u001b[0;34m-\u001b[0m \u001b[0mtime0\u001b[0m\u001b[0;34m\u001b[0m\u001b[0;34m\u001b[0m\u001b[0m\n\u001b[1;32m     19\u001b[0m         \u001b[0mresults\u001b[0m\u001b[0;34m[\u001b[0m\u001b[0md\u001b[0m\u001b[0;34m]\u001b[0m \u001b[0;34m=\u001b[0m \u001b[0mxs\u001b[0m\u001b[0;34m\u001b[0m\u001b[0;34m\u001b[0m\u001b[0m\n",
      "\u001b[0;32m~/git/symHMC/hmc.py\u001b[0m in \u001b[0;36msample_pool\u001b[0;34m(self, N_samp, data, N_chains, init_x, verbose)\u001b[0m\n\u001b[1;32m    178\u001b[0m         \u001b[0;32mwith\u001b[0m \u001b[0mmp\u001b[0m\u001b[0;34m.\u001b[0m\u001b[0mPool\u001b[0m\u001b[0;34m(\u001b[0m\u001b[0mN_chains\u001b[0m\u001b[0;34m,\u001b[0m \u001b[0minitargs\u001b[0m\u001b[0;34m=\u001b[0m\u001b[0;34m(\u001b[0m\u001b[0mN_samp\u001b[0m\u001b[0;34m,\u001b[0m \u001b[0mdata\u001b[0m\u001b[0;34m,\u001b[0m \u001b[0minit_x\u001b[0m\u001b[0;34m)\u001b[0m\u001b[0;34m)\u001b[0m \u001b[0;32mas\u001b[0m \u001b[0mpool\u001b[0m\u001b[0;34m:\u001b[0m\u001b[0;34m\u001b[0m\u001b[0;34m\u001b[0m\u001b[0m\n\u001b[1;32m    179\u001b[0m             out = np.array(pool.map(f, \n\u001b[0;32m--> 180\u001b[0;31m                                     \u001b[0mnp\u001b[0m\u001b[0;34m.\u001b[0m\u001b[0mrandom\u001b[0m\u001b[0;34m.\u001b[0m\u001b[0mrandint\u001b[0m\u001b[0;34m(\u001b[0m\u001b[0;36m0\u001b[0m\u001b[0;34m,\u001b[0m \u001b[0;36m1e5\u001b[0m\u001b[0;34m,\u001b[0m \u001b[0mN_chains\u001b[0m\u001b[0;34m)\u001b[0m\u001b[0;34m,\u001b[0m\u001b[0;34m\u001b[0m\u001b[0;34m\u001b[0m\u001b[0m\n\u001b[0m\u001b[1;32m    181\u001b[0m                                     ))\n\u001b[1;32m    182\u001b[0m \u001b[0;34m\u001b[0m\u001b[0m\n",
      "\u001b[0;32m~/anaconda3/lib/python3.7/multiprocessing/pool.py\u001b[0m in \u001b[0;36mmap\u001b[0;34m(self, func, iterable, chunksize)\u001b[0m\n\u001b[1;32m    266\u001b[0m         \u001b[0;32min\u001b[0m \u001b[0ma\u001b[0m \u001b[0mlist\u001b[0m \u001b[0mthat\u001b[0m \u001b[0;32mis\u001b[0m \u001b[0mreturned\u001b[0m\u001b[0;34m.\u001b[0m\u001b[0;34m\u001b[0m\u001b[0;34m\u001b[0m\u001b[0m\n\u001b[1;32m    267\u001b[0m         '''\n\u001b[0;32m--> 268\u001b[0;31m         \u001b[0;32mreturn\u001b[0m \u001b[0mself\u001b[0m\u001b[0;34m.\u001b[0m\u001b[0m_map_async\u001b[0m\u001b[0;34m(\u001b[0m\u001b[0mfunc\u001b[0m\u001b[0;34m,\u001b[0m \u001b[0miterable\u001b[0m\u001b[0;34m,\u001b[0m \u001b[0mmapstar\u001b[0m\u001b[0;34m,\u001b[0m \u001b[0mchunksize\u001b[0m\u001b[0;34m)\u001b[0m\u001b[0;34m.\u001b[0m\u001b[0mget\u001b[0m\u001b[0;34m(\u001b[0m\u001b[0;34m)\u001b[0m\u001b[0;34m\u001b[0m\u001b[0;34m\u001b[0m\u001b[0m\n\u001b[0m\u001b[1;32m    269\u001b[0m \u001b[0;34m\u001b[0m\u001b[0m\n\u001b[1;32m    270\u001b[0m     \u001b[0;32mdef\u001b[0m \u001b[0mstarmap\u001b[0m\u001b[0;34m(\u001b[0m\u001b[0mself\u001b[0m\u001b[0;34m,\u001b[0m \u001b[0mfunc\u001b[0m\u001b[0;34m,\u001b[0m \u001b[0miterable\u001b[0m\u001b[0;34m,\u001b[0m \u001b[0mchunksize\u001b[0m\u001b[0;34m=\u001b[0m\u001b[0;32mNone\u001b[0m\u001b[0;34m)\u001b[0m\u001b[0;34m:\u001b[0m\u001b[0;34m\u001b[0m\u001b[0;34m\u001b[0m\u001b[0m\n",
      "\u001b[0;32m~/anaconda3/lib/python3.7/multiprocessing/pool.py\u001b[0m in \u001b[0;36mget\u001b[0;34m(self, timeout)\u001b[0m\n\u001b[1;32m    649\u001b[0m \u001b[0;34m\u001b[0m\u001b[0m\n\u001b[1;32m    650\u001b[0m     \u001b[0;32mdef\u001b[0m \u001b[0mget\u001b[0m\u001b[0;34m(\u001b[0m\u001b[0mself\u001b[0m\u001b[0;34m,\u001b[0m \u001b[0mtimeout\u001b[0m\u001b[0;34m=\u001b[0m\u001b[0;32mNone\u001b[0m\u001b[0;34m)\u001b[0m\u001b[0;34m:\u001b[0m\u001b[0;34m\u001b[0m\u001b[0;34m\u001b[0m\u001b[0m\n\u001b[0;32m--> 651\u001b[0;31m         \u001b[0mself\u001b[0m\u001b[0;34m.\u001b[0m\u001b[0mwait\u001b[0m\u001b[0;34m(\u001b[0m\u001b[0mtimeout\u001b[0m\u001b[0;34m)\u001b[0m\u001b[0;34m\u001b[0m\u001b[0;34m\u001b[0m\u001b[0m\n\u001b[0m\u001b[1;32m    652\u001b[0m         \u001b[0;32mif\u001b[0m \u001b[0;32mnot\u001b[0m \u001b[0mself\u001b[0m\u001b[0;34m.\u001b[0m\u001b[0mready\u001b[0m\u001b[0;34m(\u001b[0m\u001b[0;34m)\u001b[0m\u001b[0;34m:\u001b[0m\u001b[0;34m\u001b[0m\u001b[0;34m\u001b[0m\u001b[0m\n\u001b[1;32m    653\u001b[0m             \u001b[0;32mraise\u001b[0m \u001b[0mTimeoutError\u001b[0m\u001b[0;34m\u001b[0m\u001b[0;34m\u001b[0m\u001b[0m\n",
      "\u001b[0;32m~/anaconda3/lib/python3.7/multiprocessing/pool.py\u001b[0m in \u001b[0;36mwait\u001b[0;34m(self, timeout)\u001b[0m\n\u001b[1;32m    646\u001b[0m \u001b[0;34m\u001b[0m\u001b[0m\n\u001b[1;32m    647\u001b[0m     \u001b[0;32mdef\u001b[0m \u001b[0mwait\u001b[0m\u001b[0;34m(\u001b[0m\u001b[0mself\u001b[0m\u001b[0;34m,\u001b[0m \u001b[0mtimeout\u001b[0m\u001b[0;34m=\u001b[0m\u001b[0;32mNone\u001b[0m\u001b[0;34m)\u001b[0m\u001b[0;34m:\u001b[0m\u001b[0;34m\u001b[0m\u001b[0;34m\u001b[0m\u001b[0m\n\u001b[0;32m--> 648\u001b[0;31m         \u001b[0mself\u001b[0m\u001b[0;34m.\u001b[0m\u001b[0m_event\u001b[0m\u001b[0;34m.\u001b[0m\u001b[0mwait\u001b[0m\u001b[0;34m(\u001b[0m\u001b[0mtimeout\u001b[0m\u001b[0;34m)\u001b[0m\u001b[0;34m\u001b[0m\u001b[0;34m\u001b[0m\u001b[0m\n\u001b[0m\u001b[1;32m    649\u001b[0m \u001b[0;34m\u001b[0m\u001b[0m\n\u001b[1;32m    650\u001b[0m     \u001b[0;32mdef\u001b[0m \u001b[0mget\u001b[0m\u001b[0;34m(\u001b[0m\u001b[0mself\u001b[0m\u001b[0;34m,\u001b[0m \u001b[0mtimeout\u001b[0m\u001b[0;34m=\u001b[0m\u001b[0;32mNone\u001b[0m\u001b[0;34m)\u001b[0m\u001b[0;34m:\u001b[0m\u001b[0;34m\u001b[0m\u001b[0;34m\u001b[0m\u001b[0m\n",
      "\u001b[0;32m~/anaconda3/lib/python3.7/threading.py\u001b[0m in \u001b[0;36mwait\u001b[0;34m(self, timeout)\u001b[0m\n\u001b[1;32m    550\u001b[0m             \u001b[0msignaled\u001b[0m \u001b[0;34m=\u001b[0m \u001b[0mself\u001b[0m\u001b[0;34m.\u001b[0m\u001b[0m_flag\u001b[0m\u001b[0;34m\u001b[0m\u001b[0;34m\u001b[0m\u001b[0m\n\u001b[1;32m    551\u001b[0m             \u001b[0;32mif\u001b[0m \u001b[0;32mnot\u001b[0m \u001b[0msignaled\u001b[0m\u001b[0;34m:\u001b[0m\u001b[0;34m\u001b[0m\u001b[0;34m\u001b[0m\u001b[0m\n\u001b[0;32m--> 552\u001b[0;31m                 \u001b[0msignaled\u001b[0m \u001b[0;34m=\u001b[0m \u001b[0mself\u001b[0m\u001b[0;34m.\u001b[0m\u001b[0m_cond\u001b[0m\u001b[0;34m.\u001b[0m\u001b[0mwait\u001b[0m\u001b[0;34m(\u001b[0m\u001b[0mtimeout\u001b[0m\u001b[0;34m)\u001b[0m\u001b[0;34m\u001b[0m\u001b[0;34m\u001b[0m\u001b[0m\n\u001b[0m\u001b[1;32m    553\u001b[0m             \u001b[0;32mreturn\u001b[0m \u001b[0msignaled\u001b[0m\u001b[0;34m\u001b[0m\u001b[0;34m\u001b[0m\u001b[0m\n\u001b[1;32m    554\u001b[0m \u001b[0;34m\u001b[0m\u001b[0m\n",
      "\u001b[0;32m~/anaconda3/lib/python3.7/threading.py\u001b[0m in \u001b[0;36mwait\u001b[0;34m(self, timeout)\u001b[0m\n\u001b[1;32m    294\u001b[0m         \u001b[0;32mtry\u001b[0m\u001b[0;34m:\u001b[0m    \u001b[0;31m# restore state no matter what (e.g., KeyboardInterrupt)\u001b[0m\u001b[0;34m\u001b[0m\u001b[0;34m\u001b[0m\u001b[0m\n\u001b[1;32m    295\u001b[0m             \u001b[0;32mif\u001b[0m \u001b[0mtimeout\u001b[0m \u001b[0;32mis\u001b[0m \u001b[0;32mNone\u001b[0m\u001b[0;34m:\u001b[0m\u001b[0;34m\u001b[0m\u001b[0;34m\u001b[0m\u001b[0m\n\u001b[0;32m--> 296\u001b[0;31m                 \u001b[0mwaiter\u001b[0m\u001b[0;34m.\u001b[0m\u001b[0macquire\u001b[0m\u001b[0;34m(\u001b[0m\u001b[0;34m)\u001b[0m\u001b[0;34m\u001b[0m\u001b[0;34m\u001b[0m\u001b[0m\n\u001b[0m\u001b[1;32m    297\u001b[0m                 \u001b[0mgotit\u001b[0m \u001b[0;34m=\u001b[0m \u001b[0;32mTrue\u001b[0m\u001b[0;34m\u001b[0m\u001b[0;34m\u001b[0m\u001b[0m\n\u001b[1;32m    298\u001b[0m             \u001b[0;32melse\u001b[0m\u001b[0;34m:\u001b[0m\u001b[0;34m\u001b[0m\u001b[0;34m\u001b[0m\u001b[0m\n",
      "\u001b[0;31mKeyboardInterrupt\u001b[0m: "
     ]
    }
   ],
   "source": [
    "results_ind_dt_lp, times_ind_dt_lp, acc_ind_dt_lp = run_dt(\n",
    "   data,\n",
    "   dist, \n",
    "   M=0.1*np.identity(2*ndims), \n",
    "   n_args=2*ndims, \n",
    "   steps=10**3,\n",
    "   N_chains=3,#N_chains,\n",
    "   init_x=np.concatenate([mu_tru, sig_tru]),\n",
    "   L=5, \n",
    "   dt=[10**c for c in np.arange(-6, -1, dtype=float)], \n",
    "   prop='leapfrog'\n",
    ")\n"
   ]
  },
  {
   "cell_type": "code",
   "execution_count": null,
   "metadata": {
    "ExecuteTime": {
     "end_time": "2020-05-06T02:17:34.368957Z",
     "start_time": "2020-05-06T01:57:46.919Z"
    }
   },
   "outputs": [],
   "source": [
    "def average_ess(results):\n",
    "    ess = {}\n",
    "    for p, xs in results.items():\n",
    "        temp = []\n",
    "        for c in range(N_chains):\n",
    "            temp.append(effective_sample_size_on_seperate_dimensions(xs[c]))\n",
    "        ess[p] = np.mean(temp)\n",
    "    return ess"
   ]
  },
  {
   "cell_type": "code",
   "execution_count": null,
   "metadata": {
    "ExecuteTime": {
     "end_time": "2020-05-06T02:17:34.371347Z",
     "start_time": "2020-05-06T01:57:47.467Z"
    }
   },
   "outputs": [],
   "source": [
    "average_ess(results_ind_dt_lp)"
   ]
  },
  {
   "cell_type": "code",
   "execution_count": null,
   "metadata": {
    "ExecuteTime": {
     "end_time": "2020-05-06T02:17:34.373057Z",
     "start_time": "2020-05-06T01:58:00.322Z"
    }
   },
   "outputs": [],
   "source": [
    "results_ind_L_lp, times_ind_L_lp, acc_ind_L_lp = run_L(\n",
    "   data,\n",
    "   dist, \n",
    "   M=0.1*np.identity(2*ndims), \n",
    "   n_args=2*ndims, \n",
    "   steps=10**3,\n",
    "   N_chains=N_chains,\n",
    "   init_x=np.concatenate([mu_tru, sig_tru]),\n",
    "   prop='leapfrog'\n",
    ")"
   ]
  },
  {
   "cell_type": "code",
   "execution_count": null,
   "metadata": {
    "ExecuteTime": {
     "end_time": "2020-05-06T02:17:34.374727Z",
     "start_time": "2020-05-06T01:58:00.323Z"
    }
   },
   "outputs": [],
   "source": [
    "average_ess(results_ind_L_lp)"
   ]
  },
  {
   "cell_type": "code",
   "execution_count": null,
   "metadata": {
    "ExecuteTime": {
     "end_time": "2020-05-06T02:17:34.376359Z",
     "start_time": "2020-05-06T01:58:00.325Z"
    }
   },
   "outputs": [],
   "source": [
    "results_ind_dt_ys, times_ind_dt_ys, acc_ind_dt_ys = run_dt(\n",
    "   data,\n",
    "   dist, \n",
    "   M=0.1*np.identity(2*ndims), \n",
    "   n_args=2*ndims, \n",
    "   steps=10**3,\n",
    "   N_chains=N_chains,\n",
    "   init_x=np.concatenate([mu_tru, sig_tru]),\n",
    "   L=5, \n",
    "   dt=[10**c for c in np.arange(-6, -1, dtype=float)], \n",
    "   prop='yoshida'\n",
    ")"
   ]
  },
  {
   "cell_type": "code",
   "execution_count": null,
   "metadata": {
    "ExecuteTime": {
     "end_time": "2020-05-06T02:17:34.378623Z",
     "start_time": "2020-05-06T01:58:00.326Z"
    }
   },
   "outputs": [],
   "source": [
    "average_ess(results_ind_dt_ys)"
   ]
  },
  {
   "cell_type": "code",
   "execution_count": null,
   "metadata": {
    "ExecuteTime": {
     "end_time": "2020-05-06T02:17:34.380639Z",
     "start_time": "2020-05-06T01:58:00.328Z"
    }
   },
   "outputs": [],
   "source": [
    "results_ind_L_ys, times_ind_L_ys, acc_ind_L_ys = run_L(\n",
    "   data,\n",
    "   dist, \n",
    "   M=0.1*np.identity(2*ndims), \n",
    "   n_args=2*ndims, \n",
    "   steps=10**3,\n",
    "   N_chains=N_chains,\n",
    "   init_x=np.concatenate([mu_tru, sig_tru]),\n",
    "   prop='yoshida'\n",
    ")"
   ]
  },
  {
   "cell_type": "code",
   "execution_count": null,
   "metadata": {
    "ExecuteTime": {
     "end_time": "2020-05-06T02:17:34.382260Z",
     "start_time": "2020-05-06T01:58:00.330Z"
    }
   },
   "outputs": [],
   "source": [
    "import matplotlib"
   ]
  },
  {
   "cell_type": "code",
   "execution_count": null,
   "metadata": {
    "ExecuteTime": {
     "end_time": "2020-05-06T02:17:34.383742Z",
     "start_time": "2020-05-06T01:58:00.331Z"
    }
   },
   "outputs": [],
   "source": [
    "fig, (ax1, ax2) = plt.subplots(1, 2, figsize=(20, 10))\n",
    "ax1.set_title('Time vs. Step Size on Different Samplers')\n",
    "ax1.set_xlabel('Step size(logspace)')\n",
    "ax1.set_ylabel('Compute time(s)')\n",
    "ax1.plot(np.log10(list(times_ind_dt_lp.keys())), list(times_ind_dt_lp.values()), '-*', label='Leapfrog')\n",
    "ax1.plot(np.log10(list(times_ind_dt_ys.keys())), list(times_ind_dt_ys.values()), '-*', label='Yoshida')\n",
    "ax1.legend()\n",
    "ax1.set_xticks(np.log10(list(times_ind_dt_lp.keys())))\n",
    "\n",
    "ax2.set_title('Time vs. Number of Steps on Different Samplers')\n",
    "ax2.set_xlabel('Number of Steps')\n",
    "ax2.set_ylabel('Compute time(s)')\n",
    "ax2.plot(list(times_ind_L_lp.keys()), list(times_ind_L_lp.values()), '-*', label='Leapfrog')\n",
    "ax2.plot(list(times_ind_L_ys.keys()), list(times_ind_L_ys.values()), '-*', label='Yoshida')\n",
    "ax2.legend()\n",
    "ax2.set_xticks(list(times_ind_L_ys.keys()))\n",
    "matplotlib.rcParams.update({'font.size': 40})"
   ]
  },
  {
   "cell_type": "code",
   "execution_count": null,
   "metadata": {
    "ExecuteTime": {
     "end_time": "2020-05-06T02:17:34.384946Z",
     "start_time": "2020-05-06T01:58:00.333Z"
    }
   },
   "outputs": [],
   "source": [
    "fig, (ax1, ax2) = plt.subplots(1, 2, figsize=(20, 10))\n",
    "ax1.set_title('Accpetance Rate vs. Step Size on Different Samplers')\n",
    "ax1.set_xlabel('Step size(logspace)')\n",
    "ax1.set_ylabel('Accpetance rate')\n",
    "ax1.plot(np.log10(list(acc_ind_dt_lp.keys())), list(acc_ind_dt_lp.values()), '-*', label='Leapfrog')\n",
    "ax1.plot(np.log10(list(acc_ind_dt_ys.keys())), list(acc_ind_dt_ys.values()), '-*', label='Yoshida')\n",
    "ax1.legend()\n",
    "ax1.set_xticks(np.log10(list(times_ind_dt_lp.keys())))\n",
    "\n",
    "ax2.set_title('Accpetance Rate vs. Number of Steps on Different Samplers')\n",
    "ax2.set_xlabel('Number of steps')\n",
    "ax2.set_ylabel('Accpetance rate')\n",
    "ax2.plot(list(acc_ind_L_lp.keys()), list(acc_ind_L_lp.values()), '-*', label='Leapfrog')\n",
    "ax2.plot(list(acc_ind_L_ys.keys()), list(acc_ind_L_ys.values()), '-*', label='Yoshida')\n",
    "ax2.legend()\n",
    "ax2.set_xticks(list(times_ind_L_ys.keys()))"
   ]
  },
  {
   "cell_type": "markdown",
   "metadata": {},
   "source": [
    " # Sample **HLR**"
   ]
  },
  {
   "cell_type": "code",
   "execution_count": null,
   "metadata": {
    "ExecuteTime": {
     "end_time": "2020-05-06T02:17:34.386576Z",
     "start_time": "2020-05-06T01:58:00.335Z"
    }
   },
   "outputs": [],
   "source": [
    "# Read data\n",
    "data = np.loadtxt('UCI_processed_data.txt')"
   ]
  },
  {
   "cell_type": "code",
   "execution_count": null,
   "metadata": {
    "ExecuteTime": {
     "end_time": "2020-05-06T02:17:34.387872Z",
     "start_time": "2020-05-06T01:58:00.337Z"
    }
   },
   "outputs": [],
   "source": [
    "# Initialize Distribution\n",
    "dist = HierarchicalBayesianLogisticRegression(300)"
   ]
  },
  {
   "cell_type": "code",
   "execution_count": null,
   "metadata": {
    "ExecuteTime": {
     "end_time": "2020-05-06T02:17:34.388968Z",
     "start_time": "2020-05-06T01:58:00.338Z"
    }
   },
   "outputs": [],
   "source": [
    "init_x = np.random.randn(302)\n",
    "init_x[-1] = 100"
   ]
  },
  {
   "cell_type": "code",
   "execution_count": null,
   "metadata": {
    "ExecuteTime": {
     "end_time": "2020-05-06T02:17:34.390364Z",
     "start_time": "2020-05-06T01:58:00.340Z"
    },
    "scrolled": true
   },
   "outputs": [],
   "source": [
    "results_hlr_dt_lp, times_hlr_dt_lp, acc_hlr_dt_lp = run_dt(\n",
    "    data,\n",
    "    dist, \n",
    "    M=0.1*np.identity(302), \n",
    "    n_args=302, \n",
    "    steps=10**4,\n",
    "    N_chains=N_chains,\n",
    "    init_x=init_x,\n",
    "    L=5, \n",
    "    dt=[10**c for c in np.arange(-6, -1, dtype=float)], \n",
    "    prop='leapfrog'\n",
    ")"
   ]
  },
  {
   "cell_type": "code",
   "execution_count": null,
   "metadata": {
    "ExecuteTime": {
     "end_time": "2020-05-06T02:17:34.391588Z",
     "start_time": "2020-05-06T01:58:00.342Z"
    }
   },
   "outputs": [],
   "source": [
    "times_uni_dt_lp"
   ]
  },
  {
   "cell_type": "code",
   "execution_count": null,
   "metadata": {
    "ExecuteTime": {
     "end_time": "2020-05-06T02:17:34.392618Z",
     "start_time": "2020-05-06T01:58:00.343Z"
    }
   },
   "outputs": [],
   "source": [
    "results_hlr_dt_ys, times_hlr_dt_ys, acc_hlr_dt_ys = run_dt(\n",
    "    data,\n",
    "    dist, \n",
    "    M=0.1*np.identity(302), \n",
    "    n_args=302, \n",
    "    steps=10**4,\n",
    "    N_chains=N_chains,\n",
    "    init_x=init_x,\n",
    "    L=5, \n",
    "    dt=[10**c for c in np.arange(-6, -1, dtype=float)], \n",
    "    prop='yoshida'\n",
    ")"
   ]
  },
  {
   "cell_type": "code",
   "execution_count": null,
   "metadata": {
    "ExecuteTime": {
     "end_time": "2020-05-06T02:17:34.393948Z",
     "start_time": "2020-05-06T01:58:00.345Z"
    }
   },
   "outputs": [],
   "source": [
    "results_hlr_dt_rt, times_hlr_dt_rt, acc_hlr_dt_rt = run_dt(\n",
    "    data,\n",
    "    dist, \n",
    "    M=0.1*np.identity(302), \n",
    "    n_args=302, \n",
    "    steps=10**4,\n",
    "    N_chains=N_chains,\n",
    "    init_x=init_x,\n",
    "    L=5, \n",
    "    dt=[10**c for c in np.arange(-6, -1, dtype=float)], \n",
    "    prop='ruth'\n",
    ")"
   ]
  },
  {
   "cell_type": "code",
   "execution_count": null,
   "metadata": {
    "ExecuteTime": {
     "end_time": "2020-05-06T02:17:34.395414Z",
     "start_time": "2020-05-06T01:58:00.346Z"
    }
   },
   "outputs": [],
   "source": [
    "results_hlr_dt_ca, times_hlr_dt_ca, acc_hlr_dt_ca = run_dt(\n",
    "    data,\n",
    "    dist, \n",
    "    M=0.1*np.identity(302), \n",
    "    n_args=302, \n",
    "    steps=10**4,\n",
    "    N_chains=N_chains,\n",
    "    init_x=init_x,\n",
    "    L=5, \n",
    "    dt=[10**c for c in np.arange(-6, -1, dtype=float)], \n",
    "    prop='calvo'\n",
    ")"
   ]
  },
  {
   "cell_type": "code",
   "execution_count": null,
   "metadata": {
    "ExecuteTime": {
     "end_time": "2020-05-06T02:17:34.396402Z",
     "start_time": "2020-05-06T01:58:00.348Z"
    }
   },
   "outputs": [],
   "source": [
    "results_hlr_L_lp, times_hlr_L_lp, acc_hlr_L_lp = run_L(\n",
    "    data,\n",
    "    dist, \n",
    "    M=0.1*np.identity(302), \n",
    "    n_args=302, \n",
    "    steps=10**4,\n",
    "    N_chains=N_chains,\n",
    "    init_x=init_x, \n",
    "    prop='leapfrog'\n",
    ")"
   ]
  },
  {
   "cell_type": "code",
   "execution_count": null,
   "metadata": {
    "ExecuteTime": {
     "end_time": "2020-05-06T02:17:34.397584Z",
     "start_time": "2020-05-06T01:58:00.349Z"
    }
   },
   "outputs": [],
   "source": [
    "results_hlr_L_ys, times_hlr_L_ys, acc_hlr_L_ys = run_L(\n",
    "    data,\n",
    "    dist, \n",
    "    M=0.1*np.identity(302), \n",
    "    n_args=302, \n",
    "    steps=10**4,\n",
    "    N_chains=N_chains,\n",
    "    init_x=init_x, \n",
    "    prop='yoshida'\n",
    ")"
   ]
  },
  {
   "cell_type": "code",
   "execution_count": null,
   "metadata": {
    "ExecuteTime": {
     "end_time": "2020-05-06T02:17:34.398521Z",
     "start_time": "2020-05-06T01:58:00.351Z"
    }
   },
   "outputs": [],
   "source": [
    "results_hlr_L_rt, times_hlr_L_rt, acc_hlr_L_rt = run_L(\n",
    "    data,\n",
    "    dist, \n",
    "    M=0.1*np.identity(302), \n",
    "    n_args=302, \n",
    "    steps=10**4,\n",
    "    N_chains=N_chains,\n",
    "    init_x=init_x, \n",
    "    prop='ruth'\n",
    ")"
   ]
  },
  {
   "cell_type": "code",
   "execution_count": null,
   "metadata": {
    "ExecuteTime": {
     "end_time": "2020-05-06T02:17:34.399651Z",
     "start_time": "2020-05-06T01:58:00.352Z"
    }
   },
   "outputs": [],
   "source": [
    "results_hlr_L_ca, times_hlr_L_ca, acc_hlr_L_ca = run_L(\n",
    "    data,\n",
    "    dist, \n",
    "    M=0.1*np.identity(302), \n",
    "    n_args=302, \n",
    "    steps=10**4,\n",
    "    N_chains=N_chains,\n",
    "    init_x=init_x, \n",
    "    prop='calvo'\n",
    ")"
   ]
  },
  {
   "cell_type": "code",
   "execution_count": null,
   "metadata": {
    "ExecuteTime": {
     "end_time": "2020-05-06T02:17:34.400617Z",
     "start_time": "2020-05-06T01:58:00.354Z"
    }
   },
   "outputs": [],
   "source": [
    "fig, (ax1, ax2) = plt.subplots(1, 2, figsize=(20, 10))\n",
    "ax1.set_title('Time vs. Step Size on Different Samplers')\n",
    "ax1.set_xlabel('Step size(logspace)')\n",
    "ax1.set_ylabel('Compute time(s)')\n",
    "ax1.plot(np.log10(list(times_hlr_dt_lp.keys())), list(times_hlr_dt_lp.values()), '-*', label='Leapfrog')\n",
    "ax1.plot(np.log10(list(times_hlr_dt_ys.keys())), list(times_hlr_dt_ys.values()), '-*', label='Yoshida')\n",
    "ax1.plot(np.log10(list(times_hlr_dt_rt.keys())), list(times_hlr_dt_rt.values()), '-*', label='Ruth')\n",
    "ax1.plot(np.log10(list(times_hlr_dt_ca.keys())), list(times_hlr_dt_ca.values()), '-*', label='Calvo')\n",
    "ax1.legend()\n",
    "ax1.set_xticks(np.log10(list(times_uni_dt_lp.keys())))\n",
    "\n",
    "ax2.set_title('Time vs. Number of Steps on Different Samplers')\n",
    "ax2.set_xlabel('Number of Steps')\n",
    "ax2.set_ylabel('Compute time(s)')\n",
    "ax2.plot(list(times_hlr_L_lp.keys()), list(times_hlr_L_lp.values()), '-*', label='Leapfrog')\n",
    "ax2.plot(list(times_hlr_L_ys.keys()), list(times_hlr_L_ys.values()), '-*', label='Yoshida')\n",
    "ax2.plot(list(times_hlr_L_rt.keys()), list(times_hlr_L_rt.values()), '-*', label='Ruth')\n",
    "ax2.plot(list(times_hlr_L_ca.keys()), list(times_hlr_L_ca.values()), '-*', label='Calvo')\n",
    "ax2.legend()\n",
    "ax2.set_xticks(list(times_uni_L_ys.keys()))\n",
    "matplotlib.rcParams.update({'font.size': 15})"
   ]
  },
  {
   "cell_type": "code",
   "execution_count": null,
   "metadata": {
    "ExecuteTime": {
     "end_time": "2020-05-06T02:17:34.401605Z",
     "start_time": "2020-05-06T01:58:00.356Z"
    }
   },
   "outputs": [],
   "source": [
    "fig, (ax1, ax2) = plt.subplots(1, 2, figsize=(20, 10))\n",
    "ax1.set_title('Accpetance Rate vs. Step Size on Different Samplers')\n",
    "ax1.set_xlabel('Step size(logspace)')\n",
    "ax1.set_ylabel('Accpetance rate')\n",
    "ax1.plot(np.log10(list(acc_hlr_dt_lp.keys())), list(acc_hlr_dt_lp.values()), '-*', label='Leapfrog')\n",
    "ax1.plot(np.log10(list(acc_hlr_dt_ys.keys())), list(acc_hlr_dt_ys.values()), '-*', label='Yoshida')\n",
    "ax1.plot(np.log10(list(acc_hlr_dt_rt.keys())), list(acc_hlr_dt_rt.values()), '-*', label='Ruth')\n",
    "ax1.plot(np.log10(list(acc_hlr_dt_ca.keys())), list(acc_hlr_dt_ca.values()), '-*', label='Calvo')\n",
    "ax1.legend()\n",
    "ax1.set_xticks(np.log10(list(times_uni_dt_lp.keys())))\n",
    "\n",
    "ax2.set_title('Accpetance Rate vs. Number of Steps on Different Samplers')\n",
    "ax2.set_xlabel('Number of steps')\n",
    "ax2.set_ylabel('Accpetance rate')\n",
    "ax2.plot(list(acc_hlr_L_lp.keys()), list(acc_hlr_L_lp.values()), '-*', label='Leapfrog')\n",
    "ax2.plot(list(acc_hlr_L_ys.keys()), list(acc_hlr_L_ys.values()), '-*', label='Yoshida')\n",
    "ax2.plot(list(acc_hlr_L_rt.keys()), list(acc_hlr_L_rt.values()), '-*', label='Ruth')\n",
    "ax2.plot(list(acc_hlr_L_ca.keys()), list(acc_hlr_L_lpca.values()), '-*', label='Calvo')\n",
    "ax2.legend()\n",
    "ax2.set_xticks(list(times_uni_L_ys.keys()))\n",
    "matplotlib.rc('font', size=19)"
   ]
  },
  {
   "cell_type": "code",
   "execution_count": null,
   "metadata": {
    "ExecuteTime": {
     "end_time": "2020-05-06T02:17:34.402704Z",
     "start_time": "2020-05-06T01:58:00.357Z"
    }
   },
   "outputs": [],
   "source": [
    "average_ess(results_hlr_dt_lp)"
   ]
  },
  {
   "cell_type": "code",
   "execution_count": null,
   "metadata": {
    "ExecuteTime": {
     "end_time": "2020-05-06T02:17:34.403747Z",
     "start_time": "2020-05-06T01:58:00.359Z"
    }
   },
   "outputs": [],
   "source": [
    "average_ess(results_hlr_dt_ys)"
   ]
  },
  {
   "cell_type": "code",
   "execution_count": null,
   "metadata": {
    "ExecuteTime": {
     "end_time": "2020-05-06T02:17:34.404774Z",
     "start_time": "2020-05-06T01:58:00.360Z"
    }
   },
   "outputs": [],
   "source": [
    "average_ess(results_hlr_dt_rt)"
   ]
  },
  {
   "cell_type": "code",
   "execution_count": null,
   "metadata": {
    "ExecuteTime": {
     "end_time": "2020-05-06T02:17:34.405712Z",
     "start_time": "2020-05-06T01:58:00.362Z"
    }
   },
   "outputs": [],
   "source": [
    "average_ess(results_hlr_dt_ca)"
   ]
  },
  {
   "cell_type": "code",
   "execution_count": null,
   "metadata": {
    "ExecuteTime": {
     "end_time": "2020-05-06T02:17:34.406642Z",
     "start_time": "2020-05-06T01:58:00.364Z"
    }
   },
   "outputs": [],
   "source": [
    "average_ess(results_hlr_L_lp)"
   ]
  },
  {
   "cell_type": "code",
   "execution_count": null,
   "metadata": {
    "ExecuteTime": {
     "end_time": "2020-05-06T02:17:34.407609Z",
     "start_time": "2020-05-06T01:58:00.365Z"
    }
   },
   "outputs": [],
   "source": [
    "results_hlr_L_ca"
   ]
  },
  {
   "cell_type": "code",
   "execution_count": null,
   "metadata": {},
   "outputs": [],
   "source": []
  },
  {
   "cell_type": "code",
   "execution_count": null,
   "metadata": {},
   "outputs": [],
   "source": []
  }
 ],
 "metadata": {
  "kernelspec": {
   "display_name": "Python 3",
   "language": "python",
   "name": "python3"
  },
  "language_info": {
   "codemirror_mode": {
    "name": "ipython",
    "version": 3
   },
   "file_extension": ".py",
   "mimetype": "text/x-python",
   "name": "python",
   "nbconvert_exporter": "python",
   "pygments_lexer": "ipython3",
   "version": "3.7.5"
  },
  "toc": {
   "base_numbering": 1,
   "nav_menu": {},
   "number_sections": true,
   "sideBar": true,
   "skip_h1_title": false,
   "title_cell": "Table of Contents",
   "title_sidebar": "Contents",
   "toc_cell": false,
   "toc_position": {},
   "toc_section_display": true,
   "toc_window_display": false
  }
 },
 "nbformat": 4,
 "nbformat_minor": 2
}
