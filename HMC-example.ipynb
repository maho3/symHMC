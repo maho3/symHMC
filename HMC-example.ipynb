{
 "cells": [
  {
   "cell_type": "code",
   "execution_count": 298,
   "metadata": {
    "ExecuteTime": {
     "end_time": "2020-04-06T23:42:53.908748Z",
     "start_time": "2020-04-06T23:42:53.905321Z"
    }
   },
   "outputs": [],
   "source": [
    "import numpy as np\n",
    "import pandas as pd\n",
    "\n",
    "import matplotlib as mpl\n",
    "import matplotlib.pyplot as plt\n",
    "\n",
    "from scipy.stats import norm\n",
    "from scipy.stats import multivariate_normal as mvnorm\n",
    "\n",
    "import corner\n",
    "import copy"
   ]
  },
  {
   "cell_type": "code",
   "execution_count": null,
   "metadata": {
    "ExecuteTime": {
     "end_time": "2020-04-06T23:11:35.462869Z",
     "start_time": "2020-04-06T23:11:35.460184Z"
    }
   },
   "outputs": [],
   "source": []
  },
  {
   "cell_type": "markdown",
   "metadata": {},
   "source": [
    "# Setup"
   ]
  },
  {
   "cell_type": "code",
   "execution_count": 373,
   "metadata": {
    "ExecuteTime": {
     "end_time": "2020-04-07T00:09:13.376694Z",
     "start_time": "2020-04-07T00:09:13.361818Z"
    }
   },
   "outputs": [],
   "source": [
    "class HMC():\n",
    "    \"\"\"\n",
    "    Hamiltonian Monte Carlo sampler\n",
    "    https://mc-stan.org/docs/2_21/reference-manual/hamiltonian-monte-carlo.html\n",
    "    \"\"\"\n",
    "    \n",
    "    def __init__(self, logp, dlogp, dt, L, M, n_args):\n",
    "        \"\"\"\n",
    "        Arguments:\n",
    "            logp: \n",
    "                Function which accepts two inputs (args, data) and returns log\n",
    "                probability of the objective model\n",
    "                \n",
    "            dlogp:\n",
    "                Function which which accepts two inputs (args, data) and returns the\n",
    "                gradient of the log probability w.r.t. the parameters as a np array\n",
    "                \n",
    "            dt: Time step\n",
    "            \n",
    "            L: Number of leapfrog iterations to calculate\n",
    "            \n",
    "            M: covariance of momentum sampling multivariate normal\n",
    "            \n",
    "            n_args: number of parameters to sample\n",
    "        \"\"\"\n",
    "        self.logp = logp\n",
    "        self.dlogp = dlogp\n",
    "        self.dt = dt\n",
    "        self.L = L\n",
    "        self.M = M\n",
    "        self.n_args = n_args\n",
    "    \n",
    "    def U(self, x, data):\n",
    "        return -self.logp(x,data)\n",
    "    \n",
    "    def dU(self, x, data):\n",
    "        return -self.dlogp(x,data)\n",
    "    def K(self, v):\n",
    "        return -mvnorm.logpdf(v, mean=np.zeros(self.n_args), cov=self.M)\n",
    "    \n",
    "    def proposal(self, x, v, data):\n",
    "        # Leapfrog\n",
    "        # https://en.wikiself.dlogp(x, data)pedia.org/wiki/Leapfrog_integration\n",
    "        x, v = copy.deepcopy((x,v))\n",
    "        \n",
    "        for _ in range(self.L):\n",
    "            v -= (self.dt/2)*self.dU(x, data)\n",
    "            x += self.dt*np.dot(np.linalg.inv(self.M), v)\n",
    "            v -= (self.dt/2)*self.dU(x, data)\n",
    "        \n",
    "        return x, v\n",
    "    \n",
    "    def sample(self, N_samp, data, init_x=None):\n",
    "        if init_x==None:\n",
    "            x = 2*np.random.rand(self.n_args)-0.5\n",
    "        else:\n",
    "            x = init_x\n",
    "            \n",
    "        xs = np.zeros(shape=(N_samp, self.n_args))\n",
    "        xs[0] = x\n",
    "        \n",
    "        for i in range(1, N_samp):\n",
    "            v = mvnorm.rvs(mean=np.zeros(self.n_args), cov=self.M)\n",
    "\n",
    "            xnew, vnew = self.proposal(x, v, data)\n",
    "\n",
    "            alpha = np.exp(self.U(x, data) +  self.K(v)\n",
    "                           - self.U(xnew, data) - self.K(vnew))\n",
    "\n",
    "            if np.random.rand() <= min(1, alpha):\n",
    "                xs[i] = xnew\n",
    "                x = xnew\n",
    "            else:\n",
    "                xs[i] = xs[i-1]\n",
    "                \n",
    "        return xs"
   ]
  },
  {
   "cell_type": "markdown",
   "metadata": {},
   "source": [
    "# Sampling Example $\\mathcal{N}(\\mu,\\sigma)$"
   ]
  },
  {
   "cell_type": "code",
   "execution_count": 410,
   "metadata": {
    "ExecuteTime": {
     "end_time": "2020-04-07T00:22:12.794408Z",
     "start_time": "2020-04-07T00:22:12.785188Z"
    }
   },
   "outputs": [
    {
     "name": "stdout",
     "output_type": "stream",
     "text": [
      "mu_hat: -0.002859435471150335, sig_hat: 1.0000433232420638\n"
     ]
    }
   ],
   "source": [
    "# Generate observed data\n",
    "truth = (0,1)\n",
    "\n",
    "N = 100000\n",
    "data = norm.rvs(loc=truth[0], scale=truth[1], size=N)\n",
    "\n",
    "print(f'mu_hat: {np.mean(data)}, sig_hat: {np.std(data)}')"
   ]
  },
  {
   "cell_type": "code",
   "execution_count": 411,
   "metadata": {
    "ExecuteTime": {
     "end_time": "2020-04-07T00:22:15.912896Z",
     "start_time": "2020-04-07T00:22:15.907207Z"
    }
   },
   "outputs": [],
   "source": [
    "# Define Model\n",
    "\n",
    "def logp(args, data):\n",
    "    \"\"\"\n",
    "    Calculates log probability of normal distribution\n",
    "    Arguments:\n",
    "        args = (mu, sigma)\n",
    "        data = array of observed samples\n",
    "    \"\"\"\n",
    "    if args[1] <= 0:\n",
    "        return 0\n",
    "    return np.sum(norm.logpdf(data, *args))\n",
    "\n",
    "def dlogp(args, data):\n",
    "    \"\"\"\n",
    "    Calculates the gradient of the log probability of normal distribution\n",
    "    Arguments:\n",
    "        args = (mu, sigma)\n",
    "        data = array of observed samples\n",
    "    \"\"\"\n",
    "    mu, sig = args\n",
    "    dmu = np.sum((data - mu)/(sig**2))\n",
    "    dsig = np.sum((mu**2 - sig**2 - 2*mu*data + data**2)/(sig**3))\n",
    "    return np.array([dmu, dsig])"
   ]
  },
  {
   "cell_type": "code",
   "execution_count": 412,
   "metadata": {
    "ExecuteTime": {
     "end_time": "2020-04-07T00:22:16.426038Z",
     "start_time": "2020-04-07T00:22:16.422491Z"
    },
    "code_folding": []
   },
   "outputs": [],
   "source": [
    "# Initialize Sampler\n",
    "sampler = HMC(logp, dlogp, dt=1e-4, L=10, M=0.1*np.identity(2), n_args=2)"
   ]
  },
  {
   "cell_type": "code",
   "execution_count": 413,
   "metadata": {
    "ExecuteTime": {
     "end_time": "2020-04-07T00:24:52.988836Z",
     "start_time": "2020-04-07T00:22:16.839739Z"
    },
    "code_folding": []
   },
   "outputs": [
    {
     "name": "stderr",
     "output_type": "stream",
     "text": [
      "/Users/maho/anaconda3/lib/python3.7/site-packages/ipykernel_launcher.py:70: RuntimeWarning: overflow encountered in exp\n"
     ]
    }
   ],
   "source": [
    "# Run sampling\n",
    "xs = sampler.sample(int(1e4), data, init_x=[0.1,0.5])"
   ]
  },
  {
   "cell_type": "code",
   "execution_count": 414,
   "metadata": {
    "ExecuteTime": {
     "end_time": "2020-04-07T00:24:52.993042Z",
     "start_time": "2020-04-07T00:24:52.990585Z"
    },
    "code_folding": []
   },
   "outputs": [],
   "source": [
    "# Burn\n",
    "xs = xs[100:]"
   ]
  },
  {
   "cell_type": "code",
   "execution_count": 415,
   "metadata": {
    "ExecuteTime": {
     "end_time": "2020-04-07T00:24:53.205326Z",
     "start_time": "2020-04-07T00:24:52.995808Z"
    },
    "scrolled": false
   },
   "outputs": [
    {
     "data": {
      "image/png": "[encoded data removed]",
      "text/plain": [
       "<Figure size 396x396 with 4 Axes>"
      ]
     },
     "metadata": {
      "needs_background": "light"
     },
     "output_type": "display_data"
    }
   ],
   "source": [
    "# Corner plot\n",
    "f = corner.corner(xs, truths=truth, labels=['mu', 'sig'])"
   ]
  },
  {
   "cell_type": "code",
   "execution_count": 416,
   "metadata": {
    "ExecuteTime": {
     "end_time": "2020-04-07T00:24:53.408701Z",
     "start_time": "2020-04-07T00:24:53.206989Z"
    },
    "scrolled": true
   },
   "outputs": [
    {
     "data": {
      "text/plain": [
       "(0, 9900)"
      ]
     },
     "execution_count": 416,
     "metadata": {},
     "output_type": "execute_result"
    },
    {
     "data": {
      "image/png": "[encoded data removed]",
      "text/plain": [
       "<Figure size 432x288 with 2 Axes>"
      ]
     },
     "metadata": {
      "needs_background": "light"
     },
     "output_type": "display_data"
    }
   ],
   "source": [
    "# Trace\n",
    "\n",
    "f, axs = plt.subplots(2,1)\n",
    "\n",
    "axs[0].plot(xs[:,0], label='mu', color='b')\n",
    "axs[0].set_ylabel('mu')\n",
    "axs[0].set_xlim(0,len(xs))\n",
    "\n",
    "\n",
    "axs[1].plot(xs[:,1], label='sig', color='r')\n",
    "axs[1].set_ylabel('mu')\n",
    "axs[1].set_xlim(0,len(xs))"
   ]
  },
  {
   "cell_type": "code",
   "execution_count": null,
   "metadata": {},
   "outputs": [],
   "source": []
  },
  {
   "cell_type": "code",
   "execution_count": null,
   "metadata": {},
   "outputs": [],
   "source": []
  },
  {
   "cell_type": "markdown",
   "metadata": {},
   "source": [
    "# Scratch"
   ]
  },
  {
   "cell_type": "code",
   "execution_count": null,
   "metadata": {
    "ExecuteTime": {
     "end_time": "2020-04-06T23:54:57.203620Z",
     "start_time": "2020-04-06T23:54:57.197431Z"
    }
   },
   "outputs": [],
   "source": []
  },
  {
   "cell_type": "code",
   "execution_count": null,
   "metadata": {},
   "outputs": [],
   "source": []
  }
 ],
 "metadata": {
  "kernelspec": {
   "display_name": "Python 3",
   "language": "python",
   "name": "python3"
  },
  "language_info": {
   "codemirror_mode": {
    "name": "ipython",
    "version": 3
   },
   "file_extension": ".py",
   "mimetype": "text/x-python",
   "name": "python",
   "nbconvert_exporter": "python",
   "pygments_lexer": "ipython3",
   "version": "3.7.5"
  },
  "toc": {
   "base_numbering": 1,
   "nav_menu": {},
   "number_sections": true,
   "sideBar": true,
   "skip_h1_title": false,
   "title_cell": "Table of Contents",
   "title_sidebar": "Contents",
   "toc_cell": false,
   "toc_position": {},
   "toc_section_display": true,
   "toc_window_display": false
  }
 },
 "nbformat": 4,
 "nbformat_minor": 2
}
